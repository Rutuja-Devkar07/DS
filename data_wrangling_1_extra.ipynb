{
 "cells": [
  {
   "cell_type": "code",
   "execution_count": 3,
   "id": "4e52df8c-a33f-4e11-a61c-664107253757",
   "metadata": {},
   "outputs": [
    {
     "name": "stderr",
     "output_type": "stream",
     "text": [
      "'kaggle' is not recognized as an internal or external command,\n",
      "operable program or batch file.\n",
      "'unzip' is not recognized as an internal or external command,\n",
      "operable program or batch file.\n"
     ]
    }
   ],
   "source": [
    "import os\n",
    "os.environ['KAGGLE_CONFIG_DIR']='content/kaggle.json'\n",
    "!kaggle datasets download -d piyushgoyal443/red-wine-dataset\n",
    "!unzip red-wine-dataset.zip\n",
    "import pandas as pd\n",
    "data=pd.read_csv('/content/train_and_test2.csv')\n",
    "data.head()\n",
    "data.describe()\n",
    "data.dtypes\n",
    "from sklearn.preprocessing import MinMaxScaler\n",
    "scaler=MinMaxScaler()\n",
    "data[['Age_normalize']]=scaler.fit_transform(data[['Age']])\n",
    "print(data[['Age','Age_normalize']].head())\n",
    "from sklearn.preprocessing import StandardScaler\n",
    "scaler=StandardScaler()\n",
    "data[['Age_normalize']]=scaler.fit_transform(data[['Age']])\n",
    "print(data[['Age','Age_normalize']].head())\n",
    "data=pd.DataFrame({'size':['small','medium', 'large']})\n",
    "size_mapping={'small':1,'medium':2,'large':3}\n",
    "data['size']=data['size'].map(size_mapping)\n",
    "data\n",
    "data.isna()"
   ]
  },
  {
   "cell_type": "code",
   "execution_count": null,
   "id": "2b382f84-634a-4aed-9360-44cdb6524510",
   "metadata": {},
   "outputs": [],
   "source": []
  }
 ],
 "metadata": {
  "kernelspec": {
   "display_name": "Python 3 (ipykernel)",
   "language": "python",
   "name": "python3"
  },
  "language_info": {
   "codemirror_mode": {
    "name": "ipython",
    "version": 3
   },
   "file_extension": ".py",
   "mimetype": "text/x-python",
   "name": "python",
   "nbconvert_exporter": "python",
   "pygments_lexer": "ipython3",
   "version": "3.12.7"
  }
 },
 "nbformat": 4,
 "nbformat_minor": 5
}
